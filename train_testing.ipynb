{
 "cells": [
  {
   "cell_type": "code",
   "execution_count": 2,
   "metadata": {},
   "outputs": [
    {
     "ename": "NameError",
     "evalue": "name 'current_path' is not defined",
     "output_type": "error",
     "traceback": [
      "\u001b[1;31m---------------------------------------------------------------------------\u001b[0m",
      "\u001b[1;31mNameError\u001b[0m                                 Traceback (most recent call last)",
      "\u001b[1;32mf:\\Master-Thesis-DifferentialPrivacy\\train_testing.ipynb Cell 1\u001b[0m in \u001b[0;36m<cell line: 5>\u001b[1;34m()\u001b[0m\n\u001b[0;32m      <a href='vscode-notebook-cell:/f%3A/Master-Thesis-DifferentialPrivacy/train_testing.ipynb#W0sZmlsZQ%3D%3D?line=1'>2</a>\u001b[0m \u001b[39mimport\u001b[39;00m \u001b[39mpandas\u001b[39;00m \u001b[39mas\u001b[39;00m \u001b[39mpd\u001b[39;00m\n\u001b[0;32m      <a href='vscode-notebook-cell:/f%3A/Master-Thesis-DifferentialPrivacy/train_testing.ipynb#W0sZmlsZQ%3D%3D?line=3'>4</a>\u001b[0m \u001b[39m# set the working directory\u001b[39;00m\n\u001b[1;32m----> <a href='vscode-notebook-cell:/f%3A/Master-Thesis-DifferentialPrivacy/train_testing.ipynb#W0sZmlsZQ%3D%3D?line=4'>5</a>\u001b[0m current_path \u001b[39m<\u001b[39m\u001b[39m-\u001b[39m os\u001b[39m.\u001b[39mgetcwd()\n\u001b[0;32m      <a href='vscode-notebook-cell:/f%3A/Master-Thesis-DifferentialPrivacy/train_testing.ipynb#W0sZmlsZQ%3D%3D?line=5'>6</a>\u001b[0m \u001b[39mprint\u001b[39m(os\u001b[39m.\u001b[39mgetcwd())\n\u001b[0;32m      <a href='vscode-notebook-cell:/f%3A/Master-Thesis-DifferentialPrivacy/train_testing.ipynb#W0sZmlsZQ%3D%3D?line=6'>7</a>\u001b[0m os\u001b[39m.\u001b[39mchdir(current_path)\n",
      "\u001b[1;31mNameError\u001b[0m: name 'current_path' is not defined"
     ]
    }
   ],
   "source": [
    "import os\n",
    "import pandas as pd\n",
    "\n",
    "# set the working directory\n",
    "current_path <- os.getcwd()\n",
    "print(os.getcwd())\n",
    "os.chdir(current_path)\n",
    "\n",
    "# Now, we need to load the data.\n",
    "syn_dataset <- pd.read_csv(\"./SyntheticData/Terrance/version_1/syn_k2_2020-08-02_2020-08-08.csv\")"
   ]
  },
  {
   "cell_type": "code",
   "execution_count": null,
   "metadata": {},
   "outputs": [],
   "source": [
    "# more experiments to be included"
   ]
  }
 ],
 "metadata": {
  "kernelspec": {
   "display_name": "Python 3.8.13 ('venv-tst')",
   "language": "python",
   "name": "python3"
  },
  "language_info": {
   "codemirror_mode": {
    "name": "ipython",
    "version": 3
   },
   "file_extension": ".py",
   "mimetype": "text/x-python",
   "name": "python",
   "nbconvert_exporter": "python",
   "pygments_lexer": "ipython3",
   "version": "3.8.13"
  },
  "orig_nbformat": 4,
  "vscode": {
   "interpreter": {
    "hash": "1baa2285c78546c1953ac70d37001fb885666c75fe2d78bcf1cbff440a5f3960"
   }
  }
 },
 "nbformat": 4,
 "nbformat_minor": 2
}
